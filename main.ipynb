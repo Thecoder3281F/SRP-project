{
 "cells": [
  {
   "cell_type": "code",
   "execution_count": null,
   "id": "8939b11c",
   "metadata": {},
   "outputs": [],
   "source": [
    "# # Example: compute a small selected set with mordred\n",
    "# from rdkit import Chem\n",
    "# from mordred import Calculator, descriptors\n",
    "\n",
    "# # pick descriptor names you want:\n",
    "# selected = [\n",
    "#     'MolWt', 'MolLogP', 'TPSA', 'NumHDonors', 'NumHAcceptors',\n",
    "#     'NumRotatableBonds', 'NumAromaticRings', 'FractionCSP3',\n",
    "#     'BalabanJ', 'BertzCT', 'Chi0v', 'Chi1v', 'Kappa1',\n",
    "#     'MaxEStateIndex', 'MinAbsEStateIndex',\n",
    "#     # PEOE_VSA descriptors (if available), e.g., 'PEOE_VSA1', ...\n",
    "# ]\n",
    "\n",
    "# calc = Calculator(descriptors)\n",
    "\n",
    "# def compute_selected(smiles):\n",
    "#     mol = Chem.MolFromSmiles(smiles)\n",
    "#     if mol is None:\n",
    "#         return {name: None for name in selected}\n",
    "#     all_desc = calc(mol)\n",
    "#     out = {}\n",
    "#     for name in selected:\n",
    "#         try:\n",
    "#             out[name] = float(all_desc[name])\n",
    "#         except Exception:\n",
    "#             out[name] = None\n",
    "#     return out\n"
   ]
  }
 ],
 "metadata": {
  "language_info": {
   "name": "python"
  }
 },
 "nbformat": 4,
 "nbformat_minor": 5
}
