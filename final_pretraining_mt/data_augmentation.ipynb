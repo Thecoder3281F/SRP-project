{
 "cells": [
  {
   "cell_type": "code",
   "execution_count": null,
   "id": "1a5812f4",
   "metadata": {},
   "outputs": [],
   "source": [
    "from rdkit import Chem\n",
    "from rdkit.Chem import AllChem\n",
    "import random\n",
    "\n",
    "def randomize_smiles(smiles, n=5):\n",
    "    mol = Chem.MolFromSmiles(smiles)\n",
    "    smiles_list = []\n",
    "    for _ in range(n):\n",
    "        atoms = list(range(mol.GetNumAtoms()))\n",
    "        random.shuffle(atoms)\n",
    "        new_mol = Chem.RenumberAtoms(mol, atoms)\n",
    "        smiles_list.append(Chem.MolToSmiles(new_mol, canonical=False))\n",
    "    return smiles_list\n",
    "\n",
    "print(randomize_smiles(\"CCOC(=O)N\"))\n",
    "# → ['CCOC(=O)N', 'OC(=O)NCC', 'CC(OC(=O)N)', ...]"
   ]
  }
 ],
 "metadata": {
  "language_info": {
   "name": "python"
  }
 },
 "nbformat": 4,
 "nbformat_minor": 5
}
