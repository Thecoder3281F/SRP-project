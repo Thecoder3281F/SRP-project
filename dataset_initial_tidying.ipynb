{
 "cells": [
  {
   "cell_type": "code",
   "execution_count": null,
   "metadata": {},
   "outputs": [],
   "source": [
    "import json\n",
    "import pandas as pd"
   ]
  },
  {
   "cell_type": "code",
   "execution_count": null,
   "metadata": {},
   "outputs": [],
   "source": [
    "# with open(\"raw_datasets/chanlamcoupling_all.json\", \"r\", encoding=\"utf-8\") as f:\n",
    "#     data = json.load(f)\n",
    "\n",
    "# # Flatten nested fields (recursive)\n",
    "# df = pd.json_normalize(data, sep=\"_\")\n",
    "\n",
    "# df.to_csv(\"chanlamcoupling_all_flat.csv\", index=False)\n",
    "# print(\"Exported flattened JSON to chanlamcoupling_all_flat.csv\")"
   ]
  },
  {
   "cell_type": "code",
   "execution_count": null,
   "metadata": {},
   "outputs": [],
   "source": [
    "# df\n",
    "# test"
   ]
  },
  {
   "cell_type": "code",
   "execution_count": null,
   "metadata": {},
   "outputs": [],
   "source": [
    "# remove useless shit like authors of paper, what instrument they used to measure etc\n",
    "df = pd.read_csv(\"raw_datasets/chanlamcoupling_all_flat.csv\")\n",
    "\n",
    "df = df.remo"
   ]
  }
 ],
 "metadata": {
  "kernelspec": {
   "display_name": ".venv",
   "language": "python",
   "name": "python3"
  },
  "language_info": {
   "codemirror_mode": {
    "name": "ipython",
    "version": 3
   },
   "file_extension": ".py",
   "mimetype": "text/x-python",
   "name": "python",
   "nbconvert_exporter": "python",
   "pygments_lexer": "ipython3",
   "version": "3.13.0"
  }
 },
 "nbformat": 4,
 "nbformat_minor": 2
}
